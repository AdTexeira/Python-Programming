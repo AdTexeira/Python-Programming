{
 "cells": [
  {
   "cell_type": "markdown",
   "metadata": {},
   "source": [
    "# MULTICLASS CLASSIFICATION\n",
    "Dataset taken from https://archive.ics.uci.edu/ml/datasets/Abalone\n",
    "Code referred from Hands-On Machine Learning With - Aurelien Geron_1620 book"
   ]
  },
  {
   "cell_type": "code",
   "execution_count": null,
   "metadata": {
    "collapsed": true
   },
   "outputs": [],
   "source": [
    "#importing all the necessary libraries like numpy and pandas\n",
    "import numpy as np\n",
    "import pandas as pd\n",
    "import matplotlib\n",
    "import matplotlib.pyplot as plt"
   ]
  },
  {
   "cell_type": "code",
   "execution_count": 4,
   "metadata": {},
   "outputs": [],
   "source": [
    "#Reading input from a excel file to a dataframe\n",
    "dfaba=pd.read_excel('D:/knowledge/college docs/DSP/Datasets/Abalone_dataset.xlsx')"
   ]
  },
  {
   "cell_type": "markdown",
   "metadata": {},
   "source": [
    "# Data Visualization"
   ]
  },
  {
   "cell_type": "code",
   "execution_count": 6,
   "metadata": {},
   "outputs": [
    {
     "data": {
      "text/html": [
       "<div>\n",
       "<style>\n",
       "    .dataframe thead tr:only-child th {\n",
       "        text-align: right;\n",
       "    }\n",
       "\n",
       "    .dataframe thead th {\n",
       "        text-align: left;\n",
       "    }\n",
       "\n",
       "    .dataframe tbody tr th {\n",
       "        vertical-align: top;\n",
       "    }\n",
       "</style>\n",
       "<table border=\"1\" class=\"dataframe\">\n",
       "  <thead>\n",
       "    <tr style=\"text-align: right;\">\n",
       "      <th></th>\n",
       "      <th>Sex</th>\n",
       "      <th>Length</th>\n",
       "      <th>Diameter</th>\n",
       "      <th>Height</th>\n",
       "      <th>Whole_weight</th>\n",
       "      <th>Shucked_weight</th>\n",
       "      <th>Viscera_weight</th>\n",
       "      <th>Shell_weight</th>\n",
       "      <th>Rings</th>\n",
       "      <th>Age</th>\n",
       "    </tr>\n",
       "  </thead>\n",
       "  <tbody>\n",
       "    <tr>\n",
       "      <th>0</th>\n",
       "      <td>M</td>\n",
       "      <td>0.455</td>\n",
       "      <td>0.365</td>\n",
       "      <td>0.095</td>\n",
       "      <td>0.5140</td>\n",
       "      <td>0.2245</td>\n",
       "      <td>0.1010</td>\n",
       "      <td>0.150</td>\n",
       "      <td>15</td>\n",
       "      <td>A</td>\n",
       "    </tr>\n",
       "    <tr>\n",
       "      <th>1</th>\n",
       "      <td>M</td>\n",
       "      <td>0.350</td>\n",
       "      <td>0.265</td>\n",
       "      <td>0.090</td>\n",
       "      <td>0.2255</td>\n",
       "      <td>0.0995</td>\n",
       "      <td>0.0485</td>\n",
       "      <td>0.070</td>\n",
       "      <td>7</td>\n",
       "      <td>C</td>\n",
       "    </tr>\n",
       "    <tr>\n",
       "      <th>2</th>\n",
       "      <td>F</td>\n",
       "      <td>0.530</td>\n",
       "      <td>0.420</td>\n",
       "      <td>0.135</td>\n",
       "      <td>0.6770</td>\n",
       "      <td>0.2565</td>\n",
       "      <td>0.1415</td>\n",
       "      <td>0.210</td>\n",
       "      <td>9</td>\n",
       "      <td>T</td>\n",
       "    </tr>\n",
       "    <tr>\n",
       "      <th>3</th>\n",
       "      <td>M</td>\n",
       "      <td>0.440</td>\n",
       "      <td>0.365</td>\n",
       "      <td>0.125</td>\n",
       "      <td>0.5160</td>\n",
       "      <td>0.2155</td>\n",
       "      <td>0.1140</td>\n",
       "      <td>0.155</td>\n",
       "      <td>10</td>\n",
       "      <td>T</td>\n",
       "    </tr>\n",
       "    <tr>\n",
       "      <th>4</th>\n",
       "      <td>I</td>\n",
       "      <td>0.330</td>\n",
       "      <td>0.255</td>\n",
       "      <td>0.080</td>\n",
       "      <td>0.2050</td>\n",
       "      <td>0.0895</td>\n",
       "      <td>0.0395</td>\n",
       "      <td>0.055</td>\n",
       "      <td>7</td>\n",
       "      <td>C</td>\n",
       "    </tr>\n",
       "  </tbody>\n",
       "</table>\n",
       "</div>"
      ],
      "text/plain": [
       "  Sex  Length  Diameter  Height  Whole_weight  Shucked_weight  Viscera_weight  \\\n",
       "0   M   0.455     0.365   0.095        0.5140          0.2245          0.1010   \n",
       "1   M   0.350     0.265   0.090        0.2255          0.0995          0.0485   \n",
       "2   F   0.530     0.420   0.135        0.6770          0.2565          0.1415   \n",
       "3   M   0.440     0.365   0.125        0.5160          0.2155          0.1140   \n",
       "4   I   0.330     0.255   0.080        0.2050          0.0895          0.0395   \n",
       "\n",
       "   Shell_weight  Rings Age  \n",
       "0         0.150     15   A  \n",
       "1         0.070      7   C  \n",
       "2         0.210      9   T  \n",
       "3         0.155     10   T  \n",
       "4         0.055      7   C  "
      ]
     },
     "execution_count": 6,
     "metadata": {},
     "output_type": "execute_result"
    }
   ],
   "source": [
    "#returns n rows, by default returns 5 rows \n",
    "dfaba.head()"
   ]
  },
  {
   "cell_type": "code",
   "execution_count": 7,
   "metadata": {},
   "outputs": [
    {
     "name": "stdout",
     "output_type": "stream",
     "text": [
      "<class 'pandas.core.frame.DataFrame'>\n",
      "RangeIndex: 4177 entries, 0 to 4176\n",
      "Data columns (total 10 columns):\n",
      "Sex               4177 non-null object\n",
      "Length            4177 non-null float64\n",
      "Diameter          4177 non-null float64\n",
      "Height            4177 non-null float64\n",
      "Whole_weight      4177 non-null float64\n",
      "Shucked_weight    4177 non-null float64\n",
      "Viscera_weight    4177 non-null float64\n",
      "Shell_weight      4177 non-null float64\n",
      "Rings             4177 non-null int64\n",
      "Age               4177 non-null object\n",
      "dtypes: float64(7), int64(1), object(2)\n",
      "memory usage: 326.4+ KB\n"
     ]
    }
   ],
   "source": [
    "dfaba.info()"
   ]
  },
  {
   "cell_type": "code",
   "execution_count": 8,
   "metadata": {},
   "outputs": [
    {
     "data": {
      "text/html": [
       "<div>\n",
       "<style>\n",
       "    .dataframe thead tr:only-child th {\n",
       "        text-align: right;\n",
       "    }\n",
       "\n",
       "    .dataframe thead th {\n",
       "        text-align: left;\n",
       "    }\n",
       "\n",
       "    .dataframe tbody tr th {\n",
       "        vertical-align: top;\n",
       "    }\n",
       "</style>\n",
       "<table border=\"1\" class=\"dataframe\">\n",
       "  <thead>\n",
       "    <tr style=\"text-align: right;\">\n",
       "      <th></th>\n",
       "      <th>Length</th>\n",
       "      <th>Diameter</th>\n",
       "      <th>Height</th>\n",
       "      <th>Whole_weight</th>\n",
       "      <th>Shucked_weight</th>\n",
       "      <th>Viscera_weight</th>\n",
       "      <th>Shell_weight</th>\n",
       "      <th>Rings</th>\n",
       "    </tr>\n",
       "  </thead>\n",
       "  <tbody>\n",
       "    <tr>\n",
       "      <th>count</th>\n",
       "      <td>4177.000000</td>\n",
       "      <td>4177.000000</td>\n",
       "      <td>4177.000000</td>\n",
       "      <td>4177.000000</td>\n",
       "      <td>4177.000000</td>\n",
       "      <td>4177.000000</td>\n",
       "      <td>4177.000000</td>\n",
       "      <td>4177.000000</td>\n",
       "    </tr>\n",
       "    <tr>\n",
       "      <th>mean</th>\n",
       "      <td>0.523992</td>\n",
       "      <td>0.407881</td>\n",
       "      <td>0.139516</td>\n",
       "      <td>0.828742</td>\n",
       "      <td>0.359367</td>\n",
       "      <td>0.180594</td>\n",
       "      <td>0.238831</td>\n",
       "      <td>9.933684</td>\n",
       "    </tr>\n",
       "    <tr>\n",
       "      <th>std</th>\n",
       "      <td>0.120093</td>\n",
       "      <td>0.099240</td>\n",
       "      <td>0.041827</td>\n",
       "      <td>0.490389</td>\n",
       "      <td>0.221963</td>\n",
       "      <td>0.109614</td>\n",
       "      <td>0.139203</td>\n",
       "      <td>3.224169</td>\n",
       "    </tr>\n",
       "    <tr>\n",
       "      <th>min</th>\n",
       "      <td>0.075000</td>\n",
       "      <td>0.055000</td>\n",
       "      <td>0.000000</td>\n",
       "      <td>0.002000</td>\n",
       "      <td>0.001000</td>\n",
       "      <td>0.000500</td>\n",
       "      <td>0.001500</td>\n",
       "      <td>1.000000</td>\n",
       "    </tr>\n",
       "    <tr>\n",
       "      <th>25%</th>\n",
       "      <td>0.450000</td>\n",
       "      <td>0.350000</td>\n",
       "      <td>0.115000</td>\n",
       "      <td>0.441500</td>\n",
       "      <td>0.186000</td>\n",
       "      <td>0.093500</td>\n",
       "      <td>0.130000</td>\n",
       "      <td>8.000000</td>\n",
       "    </tr>\n",
       "    <tr>\n",
       "      <th>50%</th>\n",
       "      <td>0.545000</td>\n",
       "      <td>0.425000</td>\n",
       "      <td>0.140000</td>\n",
       "      <td>0.799500</td>\n",
       "      <td>0.336000</td>\n",
       "      <td>0.171000</td>\n",
       "      <td>0.234000</td>\n",
       "      <td>9.000000</td>\n",
       "    </tr>\n",
       "    <tr>\n",
       "      <th>75%</th>\n",
       "      <td>0.615000</td>\n",
       "      <td>0.480000</td>\n",
       "      <td>0.165000</td>\n",
       "      <td>1.153000</td>\n",
       "      <td>0.502000</td>\n",
       "      <td>0.253000</td>\n",
       "      <td>0.329000</td>\n",
       "      <td>11.000000</td>\n",
       "    </tr>\n",
       "    <tr>\n",
       "      <th>max</th>\n",
       "      <td>0.815000</td>\n",
       "      <td>0.650000</td>\n",
       "      <td>1.130000</td>\n",
       "      <td>2.825500</td>\n",
       "      <td>1.488000</td>\n",
       "      <td>0.760000</td>\n",
       "      <td>1.005000</td>\n",
       "      <td>29.000000</td>\n",
       "    </tr>\n",
       "  </tbody>\n",
       "</table>\n",
       "</div>"
      ],
      "text/plain": [
       "            Length     Diameter       Height  Whole_weight  Shucked_weight  \\\n",
       "count  4177.000000  4177.000000  4177.000000   4177.000000     4177.000000   \n",
       "mean      0.523992     0.407881     0.139516      0.828742        0.359367   \n",
       "std       0.120093     0.099240     0.041827      0.490389        0.221963   \n",
       "min       0.075000     0.055000     0.000000      0.002000        0.001000   \n",
       "25%       0.450000     0.350000     0.115000      0.441500        0.186000   \n",
       "50%       0.545000     0.425000     0.140000      0.799500        0.336000   \n",
       "75%       0.615000     0.480000     0.165000      1.153000        0.502000   \n",
       "max       0.815000     0.650000     1.130000      2.825500        1.488000   \n",
       "\n",
       "       Viscera_weight  Shell_weight        Rings  \n",
       "count     4177.000000   4177.000000  4177.000000  \n",
       "mean         0.180594      0.238831     9.933684  \n",
       "std          0.109614      0.139203     3.224169  \n",
       "min          0.000500      0.001500     1.000000  \n",
       "25%          0.093500      0.130000     8.000000  \n",
       "50%          0.171000      0.234000     9.000000  \n",
       "75%          0.253000      0.329000    11.000000  \n",
       "max          0.760000      1.005000    29.000000  "
      ]
     },
     "execution_count": 8,
     "metadata": {},
     "output_type": "execute_result"
    }
   ],
   "source": [
    "#Checking attributes mean, max,etc\n",
    "dfaba.describe()"
   ]
  },
  {
   "cell_type": "code",
   "execution_count": 12,
   "metadata": {},
   "outputs": [
    {
     "data": {
      "image/png": "[encoded data removed]",
      "text/plain": [
       "<matplotlib.figure.Figure at 0x1dc57898f98>"
      ]
     },
     "metadata": {},
     "output_type": "display_data"
    }
   ],
   "source": [
    "#plot histogram for all attributes\n",
    "dfaba.hist()\n",
    "plt.show()"
   ]
  },
  {
   "cell_type": "code",
   "execution_count": 14,
   "metadata": {},
   "outputs": [
    {
     "data": {
      "image/png": "[encoded data removed]",
      "text/plain": [
       "<matplotlib.figure.Figure at 0x1dc57e5c710>"
      ]
     },
     "metadata": {},
     "output_type": "display_data"
    }
   ],
   "source": [
    "#A scatterplot to demonstrate how length of abalone increases as it grows\n",
    "dfaba.plot(kind='scatter', x=\"Rings\", y='Length')\n",
    "plt.show()"
   ]
  },
  {
   "cell_type": "code",
   "execution_count": 19,
   "metadata": {},
   "outputs": [
    {
     "data": {
      "image/png": "[encoded data removed]",
      "text/plain": [
       "<matplotlib.figure.Figure at 0x1dc56f3ecc0>"
      ]
     },
     "metadata": {},
     "output_type": "display_data"
    }
   ],
   "source": [
    "#Frequency distribution of the target variable\n",
    "dfaba['Age'].value_counts().plot(kind='bar')\n",
    "plt.show()"
   ]
  },
  {
   "cell_type": "code",
   "execution_count": 21,
   "metadata": {},
   "outputs": [
    {
     "data": {
      "text/html": [
       "<style  type=\"text/css\" >\n",
       "    #T_c3de98cc_316e_11e8_9fb7_54ee75013f63row0_col0 {\n",
       "            background-color:  #fde725;\n",
       "        }    #T_c3de98cc_316e_11e8_9fb7_54ee75013f63row0_col1 {\n",
       "            background-color:  #ece51b;\n",
       "        }    #T_c3de98cc_316e_11e8_9fb7_54ee75013f63row0_col2 {\n",
       "            background-color:  #25ab82;\n",
       "        }    #T_c3de98cc_316e_11e8_9fb7_54ee75013f63row0_col3 {\n",
       "            background-color:  #8ed645;\n",
       "        }    #T_c3de98cc_316e_11e8_9fb7_54ee75013f63row0_col4 {\n",
       "            background-color:  #69cd5b;\n",
       "        }    #T_c3de98cc_316e_11e8_9fb7_54ee75013f63row0_col5 {\n",
       "            background-color:  #6ece58;\n",
       "        }    #T_c3de98cc_316e_11e8_9fb7_54ee75013f63row0_col6 {\n",
       "            background-color:  #67cc5c;\n",
       "        }    #T_c3de98cc_316e_11e8_9fb7_54ee75013f63row0_col7 {\n",
       "            background-color:  #440154;\n",
       "        }    #T_c3de98cc_316e_11e8_9fb7_54ee75013f63row1_col0 {\n",
       "            background-color:  #ece51b;\n",
       "        }    #T_c3de98cc_316e_11e8_9fb7_54ee75013f63row1_col1 {\n",
       "            background-color:  #fde725;\n",
       "        }    #T_c3de98cc_316e_11e8_9fb7_54ee75013f63row1_col2 {\n",
       "            background-color:  #24aa83;\n",
       "        }    #T_c3de98cc_316e_11e8_9fb7_54ee75013f63row1_col3 {\n",
       "            background-color:  #8bd646;\n",
       "        }    #T_c3de98cc_316e_11e8_9fb7_54ee75013f63row1_col4 {\n",
       "            background-color:  #5cc863;\n",
       "        }    #T_c3de98cc_316e_11e8_9fb7_54ee75013f63row1_col5 {\n",
       "            background-color:  #65cb5e;\n",
       "        }    #T_c3de98cc_316e_11e8_9fb7_54ee75013f63row1_col6 {\n",
       "            background-color:  #6ece58;\n",
       "        }    #T_c3de98cc_316e_11e8_9fb7_54ee75013f63row1_col7 {\n",
       "            background-color:  #440154;\n",
       "        }    #T_c3de98cc_316e_11e8_9fb7_54ee75013f63row2_col0 {\n",
       "            background-color:  #25ab82;\n",
       "        }    #T_c3de98cc_316e_11e8_9fb7_54ee75013f63row2_col1 {\n",
       "            background-color:  #27ad81;\n",
       "        }    #T_c3de98cc_316e_11e8_9fb7_54ee75013f63row2_col2 {\n",
       "            background-color:  #fde725;\n",
       "        }    #T_c3de98cc_316e_11e8_9fb7_54ee75013f63row2_col3 {\n",
       "            background-color:  #21a685;\n",
       "        }    #T_c3de98cc_316e_11e8_9fb7_54ee75013f63row2_col4 {\n",
       "            background-color:  #218e8d;\n",
       "        }    #T_c3de98cc_316e_11e8_9fb7_54ee75013f63row2_col5 {\n",
       "            background-color:  #1e9b8a;\n",
       "        }    #T_c3de98cc_316e_11e8_9fb7_54ee75013f63row2_col6 {\n",
       "            background-color:  #21a585;\n",
       "        }    #T_c3de98cc_316e_11e8_9fb7_54ee75013f63row2_col7 {\n",
       "            background-color:  #440154;\n",
       "        }    #T_c3de98cc_316e_11e8_9fb7_54ee75013f63row3_col0 {\n",
       "            background-color:  #93d741;\n",
       "        }    #T_c3de98cc_316e_11e8_9fb7_54ee75013f63row3_col1 {\n",
       "            background-color:  #93d741;\n",
       "        }    #T_c3de98cc_316e_11e8_9fb7_54ee75013f63row3_col2 {\n",
       "            background-color:  #24aa83;\n",
       "        }    #T_c3de98cc_316e_11e8_9fb7_54ee75013f63row3_col3 {\n",
       "            background-color:  #fde725;\n",
       "        }    #T_c3de98cc_316e_11e8_9fb7_54ee75013f63row3_col4 {\n",
       "            background-color:  #d2e21b;\n",
       "        }    #T_c3de98cc_316e_11e8_9fb7_54ee75013f63row3_col5 {\n",
       "            background-color:  #d0e11c;\n",
       "        }    #T_c3de98cc_316e_11e8_9fb7_54ee75013f63row3_col6 {\n",
       "            background-color:  #c0df25;\n",
       "        }    #T_c3de98cc_316e_11e8_9fb7_54ee75013f63row3_col7 {\n",
       "            background-color:  #440154;\n",
       "        }    #T_c3de98cc_316e_11e8_9fb7_54ee75013f63row4_col0 {\n",
       "            background-color:  #89d548;\n",
       "        }    #T_c3de98cc_316e_11e8_9fb7_54ee75013f63row4_col1 {\n",
       "            background-color:  #84d44b;\n",
       "        }    #T_c3de98cc_316e_11e8_9fb7_54ee75013f63row4_col2 {\n",
       "            background-color:  #25ab82;\n",
       "        }    #T_c3de98cc_316e_11e8_9fb7_54ee75013f63row4_col3 {\n",
       "            background-color:  #dde318;\n",
       "        }    #T_c3de98cc_316e_11e8_9fb7_54ee75013f63row4_col4 {\n",
       "            background-color:  #fde725;\n",
       "        }    #T_c3de98cc_316e_11e8_9fb7_54ee75013f63row4_col5 {\n",
       "            background-color:  #b0dd2f;\n",
       "        }    #T_c3de98cc_316e_11e8_9fb7_54ee75013f63row4_col6 {\n",
       "            background-color:  #7ad151;\n",
       "        }    #T_c3de98cc_316e_11e8_9fb7_54ee75013f63row4_col7 {\n",
       "            background-color:  #440154;\n",
       "        }    #T_c3de98cc_316e_11e8_9fb7_54ee75013f63row5_col0 {\n",
       "            background-color:  #7cd250;\n",
       "        }    #T_c3de98cc_316e_11e8_9fb7_54ee75013f63row5_col1 {\n",
       "            background-color:  #7ad151;\n",
       "        }    #T_c3de98cc_316e_11e8_9fb7_54ee75013f63row5_col2 {\n",
       "            background-color:  #21a685;\n",
       "        }    #T_c3de98cc_316e_11e8_9fb7_54ee75013f63row5_col3 {\n",
       "            background-color:  #d2e21b;\n",
       "        }    #T_c3de98cc_316e_11e8_9fb7_54ee75013f63row5_col4 {\n",
       "            background-color:  #a2da37;\n",
       "        }    #T_c3de98cc_316e_11e8_9fb7_54ee75013f63row5_col5 {\n",
       "            background-color:  #fde725;\n",
       "        }    #T_c3de98cc_316e_11e8_9fb7_54ee75013f63row5_col6 {\n",
       "            background-color:  #84d44b;\n",
       "        }    #T_c3de98cc_316e_11e8_9fb7_54ee75013f63row5_col7 {\n",
       "            background-color:  #440154;\n",
       "        }    #T_c3de98cc_316e_11e8_9fb7_54ee75013f63row6_col0 {\n",
       "            background-color:  #50c46a;\n",
       "        }    #T_c3de98cc_316e_11e8_9fb7_54ee75013f63row6_col1 {\n",
       "            background-color:  #5ac864;\n",
       "        }    #T_c3de98cc_316e_11e8_9fb7_54ee75013f63row6_col2 {\n",
       "            background-color:  #20928c;\n",
       "        }    #T_c3de98cc_316e_11e8_9fb7_54ee75013f63row6_col3 {\n",
       "            background-color:  #b0dd2f;\n",
       "        }    #T_c3de98cc_316e_11e8_9fb7_54ee75013f63row6_col4 {\n",
       "            background-color:  #3dbc74;\n",
       "        }    #T_c3de98cc_316e_11e8_9fb7_54ee75013f63row6_col5 {\n",
       "            background-color:  #5ec962;\n",
       "        }    #T_c3de98cc_316e_11e8_9fb7_54ee75013f63row6_col6 {\n",
       "            background-color:  #fde725;\n",
       "        }    #T_c3de98cc_316e_11e8_9fb7_54ee75013f63row6_col7 {\n",
       "            background-color:  #440154;\n",
       "        }    #T_c3de98cc_316e_11e8_9fb7_54ee75013f63row7_col0 {\n",
       "            background-color:  #3d4e8a;\n",
       "        }    #T_c3de98cc_316e_11e8_9fb7_54ee75013f63row7_col1 {\n",
       "            background-color:  #39558c;\n",
       "        }    #T_c3de98cc_316e_11e8_9fb7_54ee75013f63row7_col2 {\n",
       "            background-color:  #3d4e8a;\n",
       "        }    #T_c3de98cc_316e_11e8_9fb7_54ee75013f63row7_col3 {\n",
       "            background-color:  #404588;\n",
       "        }    #T_c3de98cc_316e_11e8_9fb7_54ee75013f63row7_col4 {\n",
       "            background-color:  #440154;\n",
       "        }    #T_c3de98cc_316e_11e8_9fb7_54ee75013f63row7_col5 {\n",
       "            background-color:  #46327e;\n",
       "        }    #T_c3de98cc_316e_11e8_9fb7_54ee75013f63row7_col6 {\n",
       "            background-color:  #2e6e8e;\n",
       "        }    #T_c3de98cc_316e_11e8_9fb7_54ee75013f63row7_col7 {\n",
       "            background-color:  #fde725;\n",
       "        }</style>  \n",
       "<table id=\"T_c3de98cc_316e_11e8_9fb7_54ee75013f63\" > \n",
       "<thead>    <tr> \n",
       "        <th class=\"blank level0\" ></th> \n",
       "        <th class=\"col_heading level0 col0\" >Length</th> \n",
       "        <th class=\"col_heading level0 col1\" >Diameter</th> \n",
       "        <th class=\"col_heading level0 col2\" >Height</th> \n",
       "        <th class=\"col_heading level0 col3\" >Whole_weight</th> \n",
       "        <th class=\"col_heading level0 col4\" >Shucked_weight</th> \n",
       "        <th class=\"col_heading level0 col5\" >Viscera_weight</th> \n",
       "        <th class=\"col_heading level0 col6\" >Shell_weight</th> \n",
       "        <th class=\"col_heading level0 col7\" >Rings</th> \n",
       "    </tr></thead> \n",
       "<tbody>    <tr> \n",
       "        <th id=\"T_c3de98cc_316e_11e8_9fb7_54ee75013f63\" class=\"row_heading level0 row0\" >Length</th> \n",
       "        <td id=\"T_c3de98cc_316e_11e8_9fb7_54ee75013f63row0_col0\" class=\"data row0 col0\" >1.0</td> \n",
       "        <td id=\"T_c3de98cc_316e_11e8_9fb7_54ee75013f63row0_col1\" class=\"data row0 col1\" >0.99</td> \n",
       "        <td id=\"T_c3de98cc_316e_11e8_9fb7_54ee75013f63row0_col2\" class=\"data row0 col2\" >0.83</td> \n",
       "        <td id=\"T_c3de98cc_316e_11e8_9fb7_54ee75013f63row0_col3\" class=\"data row0 col3\" >0.93</td> \n",
       "        <td id=\"T_c3de98cc_316e_11e8_9fb7_54ee75013f63row0_col4\" class=\"data row0 col4\" >0.9</td> \n",
       "        <td id=\"T_c3de98cc_316e_11e8_9fb7_54ee75013f63row0_col5\" class=\"data row0 col5\" >0.9</td> \n",
       "        <td id=\"T_c3de98cc_316e_11e8_9fb7_54ee75013f63row0_col6\" class=\"data row0 col6\" >0.9</td> \n",
       "        <td id=\"T_c3de98cc_316e_11e8_9fb7_54ee75013f63row0_col7\" class=\"data row0 col7\" >0.56</td> \n",
       "    </tr>    <tr> \n",
       "        <th id=\"T_c3de98cc_316e_11e8_9fb7_54ee75013f63\" class=\"row_heading level0 row1\" >Diameter</th> \n",
       "        <td id=\"T_c3de98cc_316e_11e8_9fb7_54ee75013f63row1_col0\" class=\"data row1 col0\" >0.99</td> \n",
       "        <td id=\"T_c3de98cc_316e_11e8_9fb7_54ee75013f63row1_col1\" class=\"data row1 col1\" >1.0</td> \n",
       "        <td id=\"T_c3de98cc_316e_11e8_9fb7_54ee75013f63row1_col2\" class=\"data row1 col2\" >0.83</td> \n",
       "        <td id=\"T_c3de98cc_316e_11e8_9fb7_54ee75013f63row1_col3\" class=\"data row1 col3\" >0.93</td> \n",
       "        <td id=\"T_c3de98cc_316e_11e8_9fb7_54ee75013f63row1_col4\" class=\"data row1 col4\" >0.89</td> \n",
       "        <td id=\"T_c3de98cc_316e_11e8_9fb7_54ee75013f63row1_col5\" class=\"data row1 col5\" >0.9</td> \n",
       "        <td id=\"T_c3de98cc_316e_11e8_9fb7_54ee75013f63row1_col6\" class=\"data row1 col6\" >0.91</td> \n",
       "        <td id=\"T_c3de98cc_316e_11e8_9fb7_54ee75013f63row1_col7\" class=\"data row1 col7\" >0.57</td> \n",
       "    </tr>    <tr> \n",
       "        <th id=\"T_c3de98cc_316e_11e8_9fb7_54ee75013f63\" class=\"row_heading level0 row2\" >Height</th> \n",
       "        <td id=\"T_c3de98cc_316e_11e8_9fb7_54ee75013f63row2_col0\" class=\"data row2 col0\" >0.83</td> \n",
       "        <td id=\"T_c3de98cc_316e_11e8_9fb7_54ee75013f63row2_col1\" class=\"data row2 col1\" >0.83</td> \n",
       "        <td id=\"T_c3de98cc_316e_11e8_9fb7_54ee75013f63row2_col2\" class=\"data row2 col2\" >1.0</td> \n",
       "        <td id=\"T_c3de98cc_316e_11e8_9fb7_54ee75013f63row2_col3\" class=\"data row2 col3\" >0.82</td> \n",
       "        <td id=\"T_c3de98cc_316e_11e8_9fb7_54ee75013f63row2_col4\" class=\"data row2 col4\" >0.77</td> \n",
       "        <td id=\"T_c3de98cc_316e_11e8_9fb7_54ee75013f63row2_col5\" class=\"data row2 col5\" >0.8</td> \n",
       "        <td id=\"T_c3de98cc_316e_11e8_9fb7_54ee75013f63row2_col6\" class=\"data row2 col6\" >0.82</td> \n",
       "        <td id=\"T_c3de98cc_316e_11e8_9fb7_54ee75013f63row2_col7\" class=\"data row2 col7\" >0.56</td> \n",
       "    </tr>    <tr> \n",
       "        <th id=\"T_c3de98cc_316e_11e8_9fb7_54ee75013f63\" class=\"row_heading level0 row3\" >Whole_weight</th> \n",
       "        <td id=\"T_c3de98cc_316e_11e8_9fb7_54ee75013f63row3_col0\" class=\"data row3 col0\" >0.93</td> \n",
       "        <td id=\"T_c3de98cc_316e_11e8_9fb7_54ee75013f63row3_col1\" class=\"data row3 col1\" >0.93</td> \n",
       "        <td id=\"T_c3de98cc_316e_11e8_9fb7_54ee75013f63row3_col2\" class=\"data row3 col2\" >0.82</td> \n",
       "        <td id=\"T_c3de98cc_316e_11e8_9fb7_54ee75013f63row3_col3\" class=\"data row3 col3\" >1.0</td> \n",
       "        <td id=\"T_c3de98cc_316e_11e8_9fb7_54ee75013f63row3_col4\" class=\"data row3 col4\" >0.97</td> \n",
       "        <td id=\"T_c3de98cc_316e_11e8_9fb7_54ee75013f63row3_col5\" class=\"data row3 col5\" >0.97</td> \n",
       "        <td id=\"T_c3de98cc_316e_11e8_9fb7_54ee75013f63row3_col6\" class=\"data row3 col6\" >0.96</td> \n",
       "        <td id=\"T_c3de98cc_316e_11e8_9fb7_54ee75013f63row3_col7\" class=\"data row3 col7\" >0.54</td> \n",
       "    </tr>    <tr> \n",
       "        <th id=\"T_c3de98cc_316e_11e8_9fb7_54ee75013f63\" class=\"row_heading level0 row4\" >Shucked_weight</th> \n",
       "        <td id=\"T_c3de98cc_316e_11e8_9fb7_54ee75013f63row4_col0\" class=\"data row4 col0\" >0.9</td> \n",
       "        <td id=\"T_c3de98cc_316e_11e8_9fb7_54ee75013f63row4_col1\" class=\"data row4 col1\" >0.89</td> \n",
       "        <td id=\"T_c3de98cc_316e_11e8_9fb7_54ee75013f63row4_col2\" class=\"data row4 col2\" >0.77</td> \n",
       "        <td id=\"T_c3de98cc_316e_11e8_9fb7_54ee75013f63row4_col3\" class=\"data row4 col3\" >0.97</td> \n",
       "        <td id=\"T_c3de98cc_316e_11e8_9fb7_54ee75013f63row4_col4\" class=\"data row4 col4\" >1.0</td> \n",
       "        <td id=\"T_c3de98cc_316e_11e8_9fb7_54ee75013f63row4_col5\" class=\"data row4 col5\" >0.93</td> \n",
       "        <td id=\"T_c3de98cc_316e_11e8_9fb7_54ee75013f63row4_col6\" class=\"data row4 col6\" >0.88</td> \n",
       "        <td id=\"T_c3de98cc_316e_11e8_9fb7_54ee75013f63row4_col7\" class=\"data row4 col7\" >0.42</td> \n",
       "    </tr>    <tr> \n",
       "        <th id=\"T_c3de98cc_316e_11e8_9fb7_54ee75013f63\" class=\"row_heading level0 row5\" >Viscera_weight</th> \n",
       "        <td id=\"T_c3de98cc_316e_11e8_9fb7_54ee75013f63row5_col0\" class=\"data row5 col0\" >0.9</td> \n",
       "        <td id=\"T_c3de98cc_316e_11e8_9fb7_54ee75013f63row5_col1\" class=\"data row5 col1\" >0.9</td> \n",
       "        <td id=\"T_c3de98cc_316e_11e8_9fb7_54ee75013f63row5_col2\" class=\"data row5 col2\" >0.8</td> \n",
       "        <td id=\"T_c3de98cc_316e_11e8_9fb7_54ee75013f63row5_col3\" class=\"data row5 col3\" >0.97</td> \n",
       "        <td id=\"T_c3de98cc_316e_11e8_9fb7_54ee75013f63row5_col4\" class=\"data row5 col4\" >0.93</td> \n",
       "        <td id=\"T_c3de98cc_316e_11e8_9fb7_54ee75013f63row5_col5\" class=\"data row5 col5\" >1.0</td> \n",
       "        <td id=\"T_c3de98cc_316e_11e8_9fb7_54ee75013f63row5_col6\" class=\"data row5 col6\" >0.91</td> \n",
       "        <td id=\"T_c3de98cc_316e_11e8_9fb7_54ee75013f63row5_col7\" class=\"data row5 col7\" >0.5</td> \n",
       "    </tr>    <tr> \n",
       "        <th id=\"T_c3de98cc_316e_11e8_9fb7_54ee75013f63\" class=\"row_heading level0 row6\" >Shell_weight</th> \n",
       "        <td id=\"T_c3de98cc_316e_11e8_9fb7_54ee75013f63row6_col0\" class=\"data row6 col0\" >0.9</td> \n",
       "        <td id=\"T_c3de98cc_316e_11e8_9fb7_54ee75013f63row6_col1\" class=\"data row6 col1\" >0.91</td> \n",
       "        <td id=\"T_c3de98cc_316e_11e8_9fb7_54ee75013f63row6_col2\" class=\"data row6 col2\" >0.82</td> \n",
       "        <td id=\"T_c3de98cc_316e_11e8_9fb7_54ee75013f63row6_col3\" class=\"data row6 col3\" >0.96</td> \n",
       "        <td id=\"T_c3de98cc_316e_11e8_9fb7_54ee75013f63row6_col4\" class=\"data row6 col4\" >0.88</td> \n",
       "        <td id=\"T_c3de98cc_316e_11e8_9fb7_54ee75013f63row6_col5\" class=\"data row6 col5\" >0.91</td> \n",
       "        <td id=\"T_c3de98cc_316e_11e8_9fb7_54ee75013f63row6_col6\" class=\"data row6 col6\" >1.0</td> \n",
       "        <td id=\"T_c3de98cc_316e_11e8_9fb7_54ee75013f63row6_col7\" class=\"data row6 col7\" >0.63</td> \n",
       "    </tr>    <tr> \n",
       "        <th id=\"T_c3de98cc_316e_11e8_9fb7_54ee75013f63\" class=\"row_heading level0 row7\" >Rings</th> \n",
       "        <td id=\"T_c3de98cc_316e_11e8_9fb7_54ee75013f63row7_col0\" class=\"data row7 col0\" >0.56</td> \n",
       "        <td id=\"T_c3de98cc_316e_11e8_9fb7_54ee75013f63row7_col1\" class=\"data row7 col1\" >0.57</td> \n",
       "        <td id=\"T_c3de98cc_316e_11e8_9fb7_54ee75013f63row7_col2\" class=\"data row7 col2\" >0.56</td> \n",
       "        <td id=\"T_c3de98cc_316e_11e8_9fb7_54ee75013f63row7_col3\" class=\"data row7 col3\" >0.54</td> \n",
       "        <td id=\"T_c3de98cc_316e_11e8_9fb7_54ee75013f63row7_col4\" class=\"data row7 col4\" >0.42</td> \n",
       "        <td id=\"T_c3de98cc_316e_11e8_9fb7_54ee75013f63row7_col5\" class=\"data row7 col5\" >0.5</td> \n",
       "        <td id=\"T_c3de98cc_316e_11e8_9fb7_54ee75013f63row7_col6\" class=\"data row7 col6\" >0.63</td> \n",
       "        <td id=\"T_c3de98cc_316e_11e8_9fb7_54ee75013f63row7_col7\" class=\"data row7 col7\" >1.0</td> \n",
       "    </tr></tbody> \n",
       "</table> "
      ],
      "text/plain": [
       "<pandas.io.formats.style.Styler at 0x1dc53e5f780>"
      ]
     },
     "execution_count": 21,
     "metadata": {},
     "output_type": "execute_result"
    }
   ],
   "source": [
    "#Checking correlation matrix to avoid multicollinearity\n",
    "dfaba.drop(['Sex','Age'],axis=1).corr(method='pearson').style.format(\"{:.2}\").background_gradient(cmap=plt.get_cmap(), axis=1)"
   ]
  },
  {
   "cell_type": "markdown",
   "metadata": {},
   "source": [
    "# Feature selection"
   ]
  },
  {
   "cell_type": "code",
   "execution_count": null,
   "metadata": {
    "collapsed": true
   },
   "outputs": [],
   "source": [
    "# Based on above correlation matrix selecting the features\n",
    "#feature_cols = ['Length','Diameter','Height','Whole_weight','Shucked_weight','Viscera_weight','Shell_weight']\n",
    "feature_cols = ['Length','Height','Whole_weight','Shell_weight','Shucked_weight','Viscera_weight']\n",
    "dfABA_X = dfaba[feature_cols]"
   ]
  },
  {
   "cell_type": "code",
   "execution_count": 235,
   "metadata": {
    "collapsed": true
   },
   "outputs": [],
   "source": [
    "dfABA_Y = dfaba['Age']"
   ]
  },
  {
   "cell_type": "markdown",
   "metadata": {},
   "source": [
    "# MULTICLASS MODELS"
   ]
  },
  {
   "cell_type": "code",
   "execution_count": 236,
   "metadata": {
    "collapsed": true
   },
   "outputs": [],
   "source": [
    "from sklearn.model_selection import train_test_split\n",
    "from sklearn import tree\n",
    "from sklearn.metrics import confusion_matrix,classification_report,accuracy_score"
   ]
  },
  {
   "cell_type": "code",
   "execution_count": 237,
   "metadata": {
    "collapsed": true
   },
   "outputs": [],
   "source": [
    "#Splitting data into train and test\n",
    "x_train, x_test, y_train, y_test = train_test_split(dfABA_X, dfABA_Y, test_size=0.15, random_state=42)"
   ]
  },
  {
   "cell_type": "markdown",
   "metadata": {},
   "source": [
    "# Decision Tree"
   ]
  },
  {
   "cell_type": "code",
   "execution_count": 238,
   "metadata": {},
   "outputs": [
    {
     "data": {
      "text/plain": [
       "DecisionTreeClassifier(class_weight=None, criterion='gini', max_depth=4,\n",
       "            max_features=None, max_leaf_nodes=None,\n",
       "            min_impurity_split=1e-07, min_samples_leaf=1,\n",
       "            min_samples_split=2, min_weight_fraction_leaf=0.0,\n",
       "            presort=False, random_state=None, splitter='best')"
      ]
     },
     "execution_count": 238,
     "metadata": {},
     "output_type": "execute_result"
    }
   ],
   "source": [
    "tree_model=tree.DecisionTreeClassifier(max_depth=4)\n",
    "tree_model.fit(x_train,y_train)"
   ]
  },
  {
   "cell_type": "code",
   "execution_count": 239,
   "metadata": {
    "collapsed": true
   },
   "outputs": [],
   "source": [
    "dt_aba_pred=tree_model.predict(x_test)"
   ]
  },
  {
   "cell_type": "code",
   "execution_count": 240,
   "metadata": {},
   "outputs": [
    {
     "name": "stdout",
     "output_type": "stream",
     "text": [
      "0.602870813397\n"
     ]
    }
   ],
   "source": [
    "print(accuracy_score(y_test,dt_aba_pred))"
   ]
  },
  {
   "cell_type": "code",
   "execution_count": 241,
   "metadata": {},
   "outputs": [
    {
     "name": "stdout",
     "output_type": "stream",
     "text": [
      "[[137   8  58]\n",
      " [ 12 137  67]\n",
      " [ 72  32 104]]\n",
      "             precision    recall  f1-score   support\n",
      "\n",
      "          A       0.62      0.67      0.65       203\n",
      "          C       0.77      0.63      0.70       216\n",
      "          T       0.45      0.50      0.48       208\n",
      "\n",
      "avg / total       0.62      0.60      0.61       627\n",
      "\n"
     ]
    }
   ],
   "source": [
    "print(confusion_matrix(y_test,dt_aba_pred))\n",
    "print(classification_report(y_test,dt_aba_pred))"
   ]
  },
  {
   "cell_type": "markdown",
   "metadata": {},
   "source": [
    "# SGD Model"
   ]
  },
  {
   "cell_type": "code",
   "execution_count": 242,
   "metadata": {
    "collapsed": true
   },
   "outputs": [],
   "source": [
    "from sklearn.linear_model import SGDClassifier"
   ]
  },
  {
   "cell_type": "code",
   "execution_count": 243,
   "metadata": {},
   "outputs": [
    {
     "data": {
      "text/plain": [
       "SGDClassifier(alpha=0.0001, average=False, class_weight=None, epsilon=0.1,\n",
       "       eta0=0.0, fit_intercept=True, l1_ratio=0.15,\n",
       "       learning_rate='optimal', loss='hinge', n_iter=10, n_jobs=1,\n",
       "       penalty='l2', power_t=0.5, random_state=42, shuffle=True, verbose=0,\n",
       "       warm_start=False)"
      ]
     },
     "execution_count": 243,
     "metadata": {},
     "output_type": "execute_result"
    }
   ],
   "source": [
    "sgd_clf = SGDClassifier(random_state=42,n_iter=10)\n",
    "sgd_clf.fit(x_train,y_train)"
   ]
  },
  {
   "cell_type": "code",
   "execution_count": 244,
   "metadata": {},
   "outputs": [],
   "source": [
    "sgd_aba_pred=sgd_clf.predict(x_test)"
   ]
  },
  {
   "cell_type": "code",
   "execution_count": 245,
   "metadata": {},
   "outputs": [
    {
     "name": "stdout",
     "output_type": "stream",
     "text": [
      "0.58692185008\n"
     ]
    }
   ],
   "source": [
    "print(accuracy_score(y_test,sgd_aba_pred))"
   ]
  },
  {
   "cell_type": "code",
   "execution_count": 246,
   "metadata": {},
   "outputs": [
    {
     "name": "stdout",
     "output_type": "stream",
     "text": [
      "[[113   3  87]\n",
      " [  4  92 120]\n",
      " [ 32  13 163]]\n",
      "             precision    recall  f1-score   support\n",
      "\n",
      "          A       0.76      0.56      0.64       203\n",
      "          C       0.85      0.43      0.57       216\n",
      "          T       0.44      0.78      0.56       208\n",
      "\n",
      "avg / total       0.69      0.59      0.59       627\n",
      "\n"
     ]
    }
   ],
   "source": [
    "print(confusion_matrix(y_test,sgd_aba_pred))\n",
    "print(classification_report(y_test,sgd_aba_pred))"
   ]
  },
  {
   "cell_type": "code",
   "execution_count": 247,
   "metadata": {},
   "outputs": [
    {
     "data": {
      "text/plain": [
       "array([ 0.58263305,  0.54494382,  0.58707865,  0.57303371,  0.6       ,\n",
       "        0.60451977,  0.5819209 ,  0.55649718,  0.55084746,  0.54519774])"
      ]
     },
     "execution_count": 247,
     "metadata": {},
     "output_type": "execute_result"
    }
   ],
   "source": [
    "cross_val_score(sgd_clf, x_train, y_train, cv=10, scoring=\"accuracy\")"
   ]
  },
  {
   "cell_type": "markdown",
   "metadata": {},
   "source": [
    "Accuracy decreases on using Linear model like SGD, since this is Multiclass variable, hence opting to train the model One on One with different values of the Target variable"
   ]
  },
  {
   "cell_type": "markdown",
   "metadata": {},
   "source": [
    "# One VS One classifier"
   ]
  },
  {
   "cell_type": "code",
   "execution_count": 248,
   "metadata": {
    "collapsed": true
   },
   "outputs": [],
   "source": [
    "from sklearn.multiclass import OneVsOneClassifier"
   ]
  },
  {
   "cell_type": "code",
   "execution_count": 249,
   "metadata": {},
   "outputs": [
    {
     "data": {
      "text/plain": [
       "OneVsOneClassifier(estimator=SGDClassifier(alpha=0.0001, average=False, class_weight=None, epsilon=0.1,\n",
       "       eta0=0.0, fit_intercept=True, l1_ratio=0.15,\n",
       "       learning_rate='optimal', loss='hinge', n_iter=20, n_jobs=1,\n",
       "       penalty='l2', power_t=0.5, random_state=42, shuffle=True, verbose=0,\n",
       "       warm_start=False),\n",
       "          n_jobs=1)"
      ]
     },
     "execution_count": 249,
     "metadata": {},
     "output_type": "execute_result"
    }
   ],
   "source": [
    "ovo_clf = OneVsOneClassifier(SGDClassifier(random_state=42,n_iter=20))\n",
    "ovo_clf.fit(x_train,y_train)"
   ]
  },
  {
   "cell_type": "code",
   "execution_count": 250,
   "metadata": {
    "collapsed": true
   },
   "outputs": [],
   "source": [
    "ovo_aba_pred=ovo_clf.predict(x_test)"
   ]
  },
  {
   "cell_type": "code",
   "execution_count": 251,
   "metadata": {},
   "outputs": [
    {
     "name": "stdout",
     "output_type": "stream",
     "text": [
      "0.6331738437\n"
     ]
    }
   ],
   "source": [
    "print(accuracy_score(y_test,ovo_aba_pred))"
   ]
  },
  {
   "cell_type": "code",
   "execution_count": 252,
   "metadata": {},
   "outputs": [
    {
     "name": "stdout",
     "output_type": "stream",
     "text": [
      "[[161  12  30]\n",
      " [ 14 157  45]\n",
      " [ 83  46  79]]\n",
      "             precision    recall  f1-score   support\n",
      "\n",
      "          A       0.62      0.79      0.70       203\n",
      "          C       0.73      0.73      0.73       216\n",
      "          T       0.51      0.38      0.44       208\n",
      "\n",
      "avg / total       0.62      0.63      0.62       627\n",
      "\n"
     ]
    }
   ],
   "source": [
    "print(confusion_matrix(y_test,ovo_aba_pred))\n",
    "print(classification_report(y_test,ovo_aba_pred))"
   ]
  },
  {
   "cell_type": "markdown",
   "metadata": {},
   "source": [
    "The accuracy increases on using OvO technique for a linear classifier like SGD"
   ]
  },
  {
   "cell_type": "code",
   "execution_count": 253,
   "metadata": {
    "collapsed": true
   },
   "outputs": [],
   "source": [
    "from sklearn.model_selection import cross_val_score\n",
    "from sklearn.model_selection import cross_val_predict"
   ]
  },
  {
   "cell_type": "code",
   "execution_count": 254,
   "metadata": {},
   "outputs": [
    {
     "data": {
      "text/plain": [
       "array([ 0.60784314,  0.60955056,  0.60674157,  0.59550562,  0.56338028,\n",
       "        0.60734463,  0.5960452 ,  0.59039548,  0.67231638,  0.61299435])"
      ]
     },
     "execution_count": 254,
     "metadata": {},
     "output_type": "execute_result"
    }
   ],
   "source": [
    "# the accuracy of the model lingers around 60% on using cross validation\n",
    "cross_val_score(ovo_clf, x_train, y_train, cv=10, scoring=\"accuracy\")"
   ]
  },
  {
   "cell_type": "markdown",
   "metadata": {},
   "source": [
    "# One VS Rest Classifiers"
   ]
  },
  {
   "cell_type": "code",
   "execution_count": 280,
   "metadata": {
    "collapsed": true
   },
   "outputs": [],
   "source": [
    "from sklearn.multiclass import OneVsRestClassifier"
   ]
  },
  {
   "cell_type": "code",
   "execution_count": 281,
   "metadata": {},
   "outputs": [
    {
     "data": {
      "text/plain": [
       "OneVsRestClassifier(estimator=SGDClassifier(alpha=0.0001, average=False, class_weight=None, epsilon=0.1,\n",
       "       eta0=0.0, fit_intercept=True, l1_ratio=0.15,\n",
       "       learning_rate='optimal', loss='hinge', n_iter=20, n_jobs=1,\n",
       "       penalty='l2', power_t=0.5, random_state=42, shuffle=True, verbose=0,\n",
       "       warm_start=False),\n",
       "          n_jobs=1)"
      ]
     },
     "execution_count": 281,
     "metadata": {},
     "output_type": "execute_result"
    }
   ],
   "source": [
    "ovr_clf = OneVsRestClassifier(SGDClassifier(random_state=42,n_iter=20))\n",
    "ovr_clf.fit(x_train,y_train)"
   ]
  },
  {
   "cell_type": "code",
   "execution_count": 282,
   "metadata": {
    "collapsed": true
   },
   "outputs": [],
   "source": [
    "ovr_aba_pred=ovr_clf.predict(x_test)"
   ]
  },
  {
   "cell_type": "code",
   "execution_count": 283,
   "metadata": {},
   "outputs": [
    {
     "name": "stdout",
     "output_type": "stream",
     "text": [
      "0.593301435407\n"
     ]
    }
   ],
   "source": [
    "print(accuracy_score(y_test,ovr_aba_pred))"
   ]
  },
  {
   "cell_type": "code",
   "execution_count": 284,
   "metadata": {},
   "outputs": [
    {
     "name": "stdout",
     "output_type": "stream",
     "text": [
      "[[186  14   3]\n",
      " [ 40 168   8]\n",
      " [137  53  18]]\n",
      "             precision    recall  f1-score   support\n",
      "\n",
      "          A       0.51      0.92      0.66       203\n",
      "          C       0.71      0.78      0.75       216\n",
      "          T       0.62      0.09      0.15       208\n",
      "\n",
      "avg / total       0.62      0.59      0.52       627\n",
      "\n"
     ]
    }
   ],
   "source": [
    "print(confusion_matrix(y_test,ovr_aba_pred))\n",
    "print(classification_report(y_test,ovr_aba_pred))"
   ]
  },
  {
   "cell_type": "markdown",
   "metadata": {},
   "source": [
    "Accuracy for OvR decreases as compared to OvO"
   ]
  },
  {
   "cell_type": "markdown",
   "metadata": {},
   "source": [
    "# Neural Network for Multiclass"
   ]
  },
  {
   "cell_type": "code",
   "execution_count": 255,
   "metadata": {
    "collapsed": true
   },
   "outputs": [],
   "source": [
    "from sklearn.neural_network import MLPClassifier"
   ]
  },
  {
   "cell_type": "code",
   "execution_count": 256,
   "metadata": {
    "collapsed": true
   },
   "outputs": [],
   "source": [
    "nn_clf = MLPClassifier(random_state=42,max_iter=500)"
   ]
  },
  {
   "cell_type": "code",
   "execution_count": 257,
   "metadata": {},
   "outputs": [
    {
     "data": {
      "text/plain": [
       "MLPClassifier(activation='relu', alpha=0.0001, batch_size='auto', beta_1=0.9,\n",
       "       beta_2=0.999, early_stopping=False, epsilon=1e-08,\n",
       "       hidden_layer_sizes=(100,), learning_rate='constant',\n",
       "       learning_rate_init=0.001, max_iter=500, momentum=0.9,\n",
       "       nesterovs_momentum=True, power_t=0.5, random_state=42, shuffle=True,\n",
       "       solver='adam', tol=0.0001, validation_fraction=0.1, verbose=False,\n",
       "       warm_start=False)"
      ]
     },
     "execution_count": 257,
     "metadata": {},
     "output_type": "execute_result"
    }
   ],
   "source": [
    "nn_clf.fit(x_train,y_train)"
   ]
  },
  {
   "cell_type": "code",
   "execution_count": 258,
   "metadata": {
    "collapsed": true
   },
   "outputs": [],
   "source": [
    "nn_aba_pred=nn_clf.predict(x_test)"
   ]
  },
  {
   "cell_type": "code",
   "execution_count": 259,
   "metadata": {},
   "outputs": [
    {
     "name": "stdout",
     "output_type": "stream",
     "text": [
      "0.645933014354\n"
     ]
    }
   ],
   "source": [
    "print(accuracy_score(y_test,nn_aba_pred))"
   ]
  },
  {
   "cell_type": "code",
   "execution_count": 285,
   "metadata": {},
   "outputs": [
    {
     "name": "stdout",
     "output_type": "stream",
     "text": [
      "[[146  13  44]\n",
      " [  5 167  44]\n",
      " [ 59  57  92]]\n",
      "             precision    recall  f1-score   support\n",
      "\n",
      "          A       0.70      0.72      0.71       203\n",
      "          C       0.70      0.77      0.74       216\n",
      "          T       0.51      0.44      0.47       208\n",
      "\n",
      "avg / total       0.64      0.65      0.64       627\n",
      "\n"
     ]
    }
   ],
   "source": [
    "print(confusion_matrix(y_test,nn_aba_pred))\n",
    "print(classification_report(y_test,nn_aba_pred))"
   ]
  },
  {
   "cell_type": "markdown",
   "metadata": {},
   "source": [
    "# The above model performs the best till now, it provides good precision and recall for Age category A and C, but suffers a bit to predict Age category T"
   ]
  },
  {
   "cell_type": "markdown",
   "metadata": {},
   "source": [
    "# Neural Net Hyperparamets Tuning"
   ]
  },
  {
   "cell_type": "code",
   "execution_count": 260,
   "metadata": {
    "collapsed": true
   },
   "outputs": [],
   "source": [
    "from  sklearn.model_selection import RandomizedSearchCV #Using radomized search for hyperparmeter search"
   ]
  },
  {
   "cell_type": "code",
   "execution_count": 272,
   "metadata": {
    "collapsed": true
   },
   "outputs": [],
   "source": [
    "parameters={\n",
    "'learning_rate': [\"constant\", \"invscaling\", \"adaptive\"],\n",
    "'hidden_layer_sizes': [(100),(200),(300),(400)],\n",
    "'momentum': [0.9,0.5,0.3],\n",
    "'max_iter':[500,750,1000]\n",
    "}"
   ]
  },
  {
   "cell_type": "code",
   "execution_count": 273,
   "metadata": {},
   "outputs": [],
   "source": [
    "NN_tunning = RandomizedSearchCV(nn_clf,parameters,n_iter=10,cv=5) \n",
    "#Cv is cross validation generator\n",
    "#parameters is choosing distinct parameters"
   ]
  },
  {
   "cell_type": "code",
   "execution_count": 274,
   "metadata": {},
   "outputs": [
    {
     "data": {
      "text/plain": [
       "RandomizedSearchCV(cv=5, error_score='raise',\n",
       "          estimator=MLPClassifier(activation='relu', alpha=0.0001, batch_size='auto', beta_1=0.9,\n",
       "       beta_2=0.999, early_stopping=False, epsilon=1e-08,\n",
       "       hidden_layer_sizes=(100,), learning_rate='constant',\n",
       "       learning_rate_init=0.001, max_iter=500, momentum=0.9,\n",
       "       nesterovs_momentum=True, power_t=0.5, random_state=42, shuffle=True,\n",
       "       solver='adam', tol=0.0001, validation_fraction=0.1, verbose=False,\n",
       "       warm_start=False),\n",
       "          fit_params={}, iid=True, n_iter=10, n_jobs=1,\n",
       "          param_distributions={'learning_rate': ['constant', 'invscaling', 'adaptive'], 'hidden_layer_sizes': [100, 200, 300, 400], 'momentum': [0.9, 0.5, 0.3], 'max_iter': [500, 750, 1000]},\n",
       "          pre_dispatch='2*n_jobs', random_state=None, refit=True,\n",
       "          return_train_score=True, scoring=None, verbose=0)"
      ]
     },
     "execution_count": 274,
     "metadata": {},
     "output_type": "execute_result"
    }
   ],
   "source": [
    "NN_tunning.fit(x_train,y_train)"
   ]
  },
  {
   "cell_type": "code",
   "execution_count": 275,
   "metadata": {
    "collapsed": true
   },
   "outputs": [],
   "source": [
    "y_pred = NN_tunning.predict(x_test) #predicting on testing data"
   ]
  },
  {
   "cell_type": "code",
   "execution_count": 276,
   "metadata": {},
   "outputs": [
    {
     "data": {
      "text/plain": [
       "array([[135,  13,  55],\n",
       "       [  4, 169,  43],\n",
       "       [ 48,  58, 102]])"
      ]
     },
     "execution_count": 276,
     "metadata": {},
     "output_type": "execute_result"
    }
   ],
   "source": [
    "cm = confusion_matrix(y_test,y_pred)#creating the confusion matrix\n",
    "cm"
   ]
  },
  {
   "cell_type": "code",
   "execution_count": 277,
   "metadata": {},
   "outputs": [
    {
     "data": {
      "text/plain": [
       "0.6475279106858054"
      ]
     },
     "execution_count": 277,
     "metadata": {},
     "output_type": "execute_result"
    }
   ],
   "source": [
    "accuracy_score(y_test,y_pred)  #Checking the accuracy of our model"
   ]
  },
  {
   "cell_type": "code",
   "execution_count": 278,
   "metadata": {},
   "outputs": [
    {
     "name": "stdout",
     "output_type": "stream",
     "text": [
      "             precision    recall  f1-score   support\n",
      "\n",
      "          A       0.72      0.67      0.69       203\n",
      "          C       0.70      0.78      0.74       216\n",
      "          T       0.51      0.49      0.50       208\n",
      "\n",
      "avg / total       0.65      0.65      0.65       627\n",
      "\n"
     ]
    }
   ],
   "source": [
    "print(classification_report(y_test,y_pred)) #Printing the classification report"
   ]
  },
  {
   "cell_type": "code",
   "execution_count": 279,
   "metadata": {},
   "outputs": [
    {
     "name": "stdout",
     "output_type": "stream",
     "text": [
      "Tuned Decision Tree Parameters: {'momentum': 0.3, 'max_iter': 750, 'learning_rate': 'invscaling', 'hidden_layer_sizes': 300}\n"
     ]
    }
   ],
   "source": [
    "print(\"Tuned Decision Tree Parameters: {}\".format(NN_tunning.best_params_))\n",
    "#Printing out the parameters of the current search"
   ]
  },
  {
   "cell_type": "markdown",
   "metadata": {},
   "source": [
    "# On tuning the Nueral network the accuracy doesn't differ much as compared to the one before.\n",
    "# It can be concluded that for Multiclass data Neural network performs better as compared to Linear models in our case."
   ]
  },
  {
   "cell_type": "code",
   "execution_count": null,
   "metadata": {
    "collapsed": true
   },
   "outputs": [],
   "source": []
  }
 ],
 "metadata": {
  "kernelspec": {
   "display_name": "Python 3",
   "language": "python",
   "name": "python3"
  },
  "language_info": {
   "codemirror_mode": {
    "name": "ipython",
    "version": 3
   },
   "file_extension": ".py",
   "mimetype": "text/x-python",
   "name": "python",
   "nbconvert_exporter": "python",
   "pygments_lexer": "ipython3",
   "version": "3.6.1"
  }
 },
 "nbformat": 4,
 "nbformat_minor": 2
}
